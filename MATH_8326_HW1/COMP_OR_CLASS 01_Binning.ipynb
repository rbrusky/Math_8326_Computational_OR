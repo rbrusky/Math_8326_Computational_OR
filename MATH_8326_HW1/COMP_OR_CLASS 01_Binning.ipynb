{
 "cells": [
  {
   "cell_type": "code",
   "execution_count": 4,
   "metadata": {
    "collapsed": true
   },
   "outputs": [],
   "source": [
    "from __future__ import print_function\n",
    "import random"
   ]
  },
  {
   "cell_type": "code",
   "execution_count": 5,
   "metadata": {
    "collapsed": false
   },
   "outputs": [],
   "source": [
    "def print_bins(bins,shipment_sizes):\n",
    "    for bin_index in range(len(bins)):\n",
    "        b = bins[bin_index]\n",
    "        print('   bin:{:3}'.format(bin_index),'  size:{:3}'.format(bin_size(b,shipment_sizes)),'   contents:',b)\n",
    "        \n",
    "        \n",
    "        \n",
    "        #print('{:8}'.format(strokes[stroke]+':'),"
   ]
  },
  {
   "cell_type": "code",
   "execution_count": 6,
   "metadata": {
    "collapsed": true
   },
   "outputs": [],
   "source": [
    "def bin_size(bin,shipment_sizes):\n",
    "    return sum([shipment_sizes[i] for i in bin])"
   ]
  },
  {
   "cell_type": "code",
   "execution_count": 7,
   "metadata": {
    "collapsed": false
   },
   "outputs": [],
   "source": [
    "def solver_with_prints(max_bin_size,shipment_sizes):\n",
    "    bins = []\n",
    "    bins = [[0]] # put the first one in a bin\n",
    "    for ship_index in range(1,len(shipment_sizes)):\n",
    "        # find a bin\n",
    "        print('------------------------')\n",
    "        print('Status of all bins so far')\n",
    "        print_bins(bins,shipment_sizes)\n",
    "        print('------------------------')\n",
    "        print('For shipment_sizes ship_index:',ship_index, 'of size',shipment_sizes[ship_index])\n",
    "        need_new_bin = True\n",
    "        for bin_index in range(len(bins)):\n",
    "            print('   Does it fit in bin ' + str(bin_index) + '?',end=\"\")\n",
    "            if shipment_sizes[ship_index] + bin_size(bins[bin_index], shipment_sizes) <= max_bin_size:\n",
    "                bin = bins[bin_index]\n",
    "                bin.append(ship_index)\n",
    "                bins[bin_index] = bin\n",
    "                need_new_bin = False\n",
    "                print(' YES!!')\n",
    "                break\n",
    "            else:\n",
    "                print (' no')\n",
    "        if need_new_bin:\n",
    "            bins.append([ship_index])\n",
    "            print(' created a new bin')    \n",
    "        \n",
    "    print('------------------------')\n",
    "    print('Solution:')\n",
    "    print_bins(bins,shipment_sizes)\n",
    "    print('------------------------')\n",
    "    print(bins)\n",
    "    return bins"
   ]
  },
  {
   "cell_type": "code",
   "execution_count": 8,
   "metadata": {
    "collapsed": true
   },
   "outputs": [],
   "source": [
    "def solver(max_bin_size,shipment_sizes):\n",
    "    bins = []\n",
    "    bins = [[0]] # put the first one in a bin\n",
    "    for ship_index in range(1,len(shipment_sizes)):\n",
    "        # find a bin\n",
    "        need_new_bin = True\n",
    "        for bin_index in range(len(bins)):\n",
    "            if shipment_sizes[ship_index] + bin_size(bins[bin_index], shipment_sizes) <= max_bin_size:\n",
    "                bin = bins[bin_index]\n",
    "                bin.append(ship_index)\n",
    "                bins[bin_index] = bin\n",
    "                need_new_bin = False\n",
    "                break\n",
    "        if need_new_bin:\n",
    "            bins.append([ship_index])\n",
    "    return bins"
   ]
  },
  {
   "cell_type": "code",
   "execution_count": 9,
   "metadata": {
    "collapsed": false
   },
   "outputs": [
    {
     "data": {
      "text/plain": [
       "[5, 8, 7, 10, 4, 6, 9, 5]"
      ]
     },
     "execution_count": 9,
     "metadata": {},
     "output_type": "execute_result"
    }
   ],
   "source": [
    "# input the data\n",
    "max_bin_size = 12\n",
    "shipment_sizes = [5,8,7,10,4,6,9,5]\n",
    "#shipment_sizes = [8, 6, 6, 9, 3, 9, 2, 7, 1, 3, 1, 7, 9, 8, 6, 6, 1, 10, 4, 5]\n",
    "shipment_sizes"
   ]
  },
  {
   "cell_type": "code",
   "execution_count": 10,
   "metadata": {
    "collapsed": false
   },
   "outputs": [
    {
     "data": {
      "text/plain": [
       "[10, 9, 8, 7, 6, 5, 5, 4]"
      ]
     },
     "execution_count": 10,
     "metadata": {},
     "output_type": "execute_result"
    }
   ],
   "source": [
    "# Sort the sizes if you want to\n",
    "shipment_sizes = sorted(shipment_sizes, reverse=True)\n",
    "shipment_sizes"
   ]
  },
  {
   "cell_type": "code",
   "execution_count": 11,
   "metadata": {
    "collapsed": false
   },
   "outputs": [
    {
     "name": "stdout",
     "output_type": "stream",
     "text": [
      "------------------------\n",
      "Status of all bins so far\n",
      "   bin:  0   size: 10    contents: [0]\n",
      "------------------------\n",
      "For shipment_sizes ship_index: 1 of size 9\n",
      "   Does it fit in bin 0? no\n",
      " created a new bin\n",
      "------------------------\n",
      "Status of all bins so far\n",
      "   bin:  0   size: 10    contents: [0]\n",
      "   bin:  1   size:  9    contents: [1]\n",
      "------------------------\n",
      "For shipment_sizes ship_index: 2 of size 8\n",
      "   Does it fit in bin 0? no\n",
      "   Does it fit in bin 1? no\n",
      " created a new bin\n",
      "------------------------\n",
      "Status of all bins so far\n",
      "   bin:  0   size: 10    contents: [0]\n",
      "   bin:  1   size:  9    contents: [1]\n",
      "   bin:  2   size:  8    contents: [2]\n",
      "------------------------\n",
      "For shipment_sizes ship_index: 3 of size 7\n",
      "   Does it fit in bin 0? no\n",
      "   Does it fit in bin 1? no\n",
      "   Does it fit in bin 2? no\n",
      " created a new bin\n",
      "------------------------\n",
      "Status of all bins so far\n",
      "   bin:  0   size: 10    contents: [0]\n",
      "   bin:  1   size:  9    contents: [1]\n",
      "   bin:  2   size:  8    contents: [2]\n",
      "   bin:  3   size:  7    contents: [3]\n",
      "------------------------\n",
      "For shipment_sizes ship_index: 4 of size 6\n",
      "   Does it fit in bin 0? no\n",
      "   Does it fit in bin 1? no\n",
      "   Does it fit in bin 2? no\n",
      "   Does it fit in bin 3? no\n",
      " created a new bin\n",
      "------------------------\n",
      "Status of all bins so far\n",
      "   bin:  0   size: 10    contents: [0]\n",
      "   bin:  1   size:  9    contents: [1]\n",
      "   bin:  2   size:  8    contents: [2]\n",
      "   bin:  3   size:  7    contents: [3]\n",
      "   bin:  4   size:  6    contents: [4]\n",
      "------------------------\n",
      "For shipment_sizes ship_index: 5 of size 5\n",
      "   Does it fit in bin 0? no\n",
      "   Does it fit in bin 1? no\n",
      "   Does it fit in bin 2? no\n",
      "   Does it fit in bin 3? YES!!\n",
      "------------------------\n",
      "Status of all bins so far\n",
      "   bin:  0   size: 10    contents: [0]\n",
      "   bin:  1   size:  9    contents: [1]\n",
      "   bin:  2   size:  8    contents: [2]\n",
      "   bin:  3   size: 12    contents: [3, 5]\n",
      "   bin:  4   size:  6    contents: [4]\n",
      "------------------------\n",
      "For shipment_sizes ship_index: 6 of size 5\n",
      "   Does it fit in bin 0? no\n",
      "   Does it fit in bin 1? no\n",
      "   Does it fit in bin 2? no\n",
      "   Does it fit in bin 3? no\n",
      "   Does it fit in bin 4? YES!!\n",
      "------------------------\n",
      "Status of all bins so far\n",
      "   bin:  0   size: 10    contents: [0]\n",
      "   bin:  1   size:  9    contents: [1]\n",
      "   bin:  2   size:  8    contents: [2]\n",
      "   bin:  3   size: 12    contents: [3, 5]\n",
      "   bin:  4   size: 11    contents: [4, 6]\n",
      "------------------------\n",
      "For shipment_sizes ship_index: 7 of size 4\n",
      "   Does it fit in bin 0? no\n",
      "   Does it fit in bin 1? no\n",
      "   Does it fit in bin 2? YES!!\n",
      "------------------------\n",
      "Solution:\n",
      "   bin:  0   size: 10    contents: [0]\n",
      "   bin:  1   size:  9    contents: [1]\n",
      "   bin:  2   size: 12    contents: [2, 7]\n",
      "   bin:  3   size: 12    contents: [3, 5]\n",
      "   bin:  4   size: 11    contents: [4, 6]\n",
      "------------------------\n",
      "[[0], [1], [2, 7], [3, 5], [4, 6]]\n"
     ]
    }
   ],
   "source": [
    "# this will print out step-by-step what the solver is doing\n",
    "bins = solver_with_prints(max_bin_size,shipment_sizes)"
   ]
  },
  {
   "cell_type": "code",
   "execution_count": 12,
   "metadata": {
    "collapsed": false
   },
   "outputs": [
    {
     "name": "stdout",
     "output_type": "stream",
     "text": [
      "[10, 9, 8, 7, 6, 5, 5, 4]\n",
      "[[0], [1], [2, 7], [3, 5], [4, 6]]\n"
     ]
    }
   ],
   "source": [
    "print(shipment_sizes)\n",
    "bins = solver(max_bin_size,shipment_sizes)\n",
    "print(bins)"
   ]
  },
  {
   "cell_type": "code",
   "execution_count": null,
   "metadata": {
    "collapsed": true
   },
   "outputs": [],
   "source": []
  },
  {
   "cell_type": "code",
   "execution_count": null,
   "metadata": {
    "collapsed": true
   },
   "outputs": [],
   "source": []
  },
  {
   "cell_type": "markdown",
   "metadata": {},
   "source": [
    "# create a random sample of shipment sizes"
   ]
  },
  {
   "cell_type": "code",
   "execution_count": 13,
   "metadata": {
    "collapsed": false
   },
   "outputs": [
    {
     "name": "stdout",
     "output_type": "stream",
     "text": [
      "[9, 8, 10, 11, 7, 9, 11, 7, 5, 7, 10, 7, 10, 5, 7, 7, 10, 6, 5, 10]\n"
     ]
    }
   ],
   "source": [
    "max_bin_size = 12\n",
    "sample_size = 20\n",
    "random_shipment_sizes = [random.randrange(5,max_bin_size) for _ in range (sample_size)]\n",
    "if sample_size <= 20: print(random_shipment_sizes)"
   ]
  },
  {
   "cell_type": "markdown",
   "metadata": {},
   "source": [
    "# optimize without sorting"
   ]
  },
  {
   "cell_type": "code",
   "execution_count": 14,
   "metadata": {
    "collapsed": false
   },
   "outputs": [
    {
     "name": "stdout",
     "output_type": "stream",
     "text": [
      "[9, 8, 10, 11, 7, 9, 11, 7, 5, 7, 10, 7, 10, 5, 7, 7, 10, 6, 5, 10]\n",
      "   bin:  0   size:  9    contents: [0]\n",
      "   bin:  1   size:  8    contents: [1]\n",
      "   bin:  2   size: 10    contents: [2]\n",
      "   bin:  3   size: 11    contents: [3]\n",
      "   bin:  4   size: 12    contents: [4, 8]\n",
      "   bin:  5   size:  9    contents: [5]\n",
      "   bin:  6   size: 11    contents: [6]\n",
      "   bin:  7   size: 12    contents: [7, 13]\n",
      "   bin:  8   size: 12    contents: [9, 18]\n",
      "   bin:  9   size: 10    contents: [10]\n",
      "   bin: 10   size:  7    contents: [11]\n",
      "   bin: 11   size: 10    contents: [12]\n",
      "   bin: 12   size:  7    contents: [14]\n",
      "   bin: 13   size:  7    contents: [15]\n",
      "   bin: 14   size: 10    contents: [16]\n",
      "   bin: 15   size:  6    contents: [17]\n",
      "   bin: 16   size: 10    contents: [19]\n",
      "[[0], [1], [2], [3], [4, 8], [5], [6], [7, 13], [9, 18], [10], [11], [12], [14], [15], [16], [17], [19]]\n",
      "number of bins: 17\n"
     ]
    }
   ],
   "source": [
    "bins = solver(max_bin_size,random_shipment_sizes)\n",
    "if sample_size <= 20:\n",
    "    print(random_shipment_sizes)\n",
    "    print_bins(bins,random_shipment_sizes)\n",
    "    print(bins)\n",
    "print(\"number of bins:\",len(bins))"
   ]
  },
  {
   "cell_type": "markdown",
   "metadata": {},
   "source": [
    "# optimize with sorting largest to smallest shipment size"
   ]
  },
  {
   "cell_type": "code",
   "execution_count": 15,
   "metadata": {
    "collapsed": false
   },
   "outputs": [
    {
     "name": "stdout",
     "output_type": "stream",
     "text": [
      "[11, 11, 10, 10, 10, 10, 10, 9, 9, 8, 7, 7, 7, 7, 7, 7, 6, 5, 5, 5]\n",
      "   bin:  0   size: 11    contents: [0]\n",
      "   bin:  1   size: 11    contents: [1]\n",
      "   bin:  2   size: 10    contents: [2]\n",
      "   bin:  3   size: 10    contents: [3]\n",
      "   bin:  4   size: 10    contents: [4]\n",
      "   bin:  5   size: 10    contents: [5]\n",
      "   bin:  6   size: 10    contents: [6]\n",
      "   bin:  7   size:  9    contents: [7]\n",
      "   bin:  8   size:  9    contents: [8]\n",
      "   bin:  9   size:  8    contents: [9]\n",
      "   bin: 10   size: 12    contents: [10, 17]\n",
      "   bin: 11   size: 12    contents: [11, 18]\n",
      "   bin: 12   size: 12    contents: [12, 19]\n",
      "   bin: 13   size:  7    contents: [13]\n",
      "   bin: 14   size:  7    contents: [14]\n",
      "   bin: 15   size:  7    contents: [15]\n",
      "   bin: 16   size:  6    contents: [16]\n",
      "[[0], [1], [2], [3], [4], [5], [6], [7], [8], [9], [10, 17], [11, 18], [12, 19], [13], [14], [15], [16]]\n",
      "number of bins: 17\n"
     ]
    }
   ],
   "source": [
    "random_shipment_sizes_sorted = sorted(random_shipment_sizes, reverse=True)\n",
    "bins = solver(max_bin_size,sorted(random_shipment_sizes_sorted, reverse=True))\n",
    "if sample_size <= 20:\n",
    "    print(random_shipment_sizes_sorted)\n",
    "    print_bins(bins,random_shipment_sizes_sorted)\n",
    "    print(bins)\n",
    "print(\"number of bins:\",len(bins))"
   ]
  },
  {
   "cell_type": "markdown",
   "metadata": {},
   "source": [
    "# compare sorted to unsorted"
   ]
  },
  {
   "cell_type": "code",
   "execution_count": 16,
   "metadata": {
    "collapsed": false
   },
   "outputs": [
    {
     "name": "stdout",
     "output_type": "stream",
     "text": [
      "unsorted   sorted    difference\n",
      "509        491       sorted is better by: 18\n",
      "513        504       sorted is better by:  9\n",
      "521        513       sorted is better by:  8\n",
      "492        483       sorted is better by:  9\n",
      "501        493       sorted is better by:  8\n",
      "519        512       sorted is better by:  7\n",
      "510        501       sorted is better by:  9\n",
      "508        495       sorted is better by: 13\n",
      "541        533       sorted is better by:  8\n",
      "521        514       sorted is better by:  7\n",
      "521        506       sorted is better by: 15\n",
      "531        520       sorted is better by: 11\n",
      "518        509       sorted is better by:  9\n",
      "512        502       sorted is better by: 10\n",
      "522        512       sorted is better by: 10\n",
      "510        496       sorted is better by: 14\n",
      "517        510       sorted is better by:  7\n",
      "534        519       sorted is better by: 15\n",
      "521        513       sorted is better by:  8\n",
      "538        534       sorted is better by:  4\n"
     ]
    }
   ],
   "source": [
    "max_bin_size = 12\n",
    "sample_size = 1000\n",
    "print('unsorted   sorted    difference')\n",
    "for i in range(20):\n",
    "    random_shipment_sizes = [random.randrange(1,max_bin_size) for _ in range (sample_size)]\n",
    "    random_shipment_sizes_sorted = sorted(random_shipment_sizes, reverse=True)\n",
    "    bins1 = len(solver(max_bin_size,random_shipment_sizes))\n",
    "    bins2 = len(solver(max_bin_size,random_shipment_sizes_sorted))\n",
    "    print (bins1, '      ', bins2, '      sorted is better by:{:3}'.format(bins1 - bins2))\n"
   ]
  },
  {
   "cell_type": "code",
   "execution_count": 17,
   "metadata": {
    "collapsed": true
   },
   "outputs": [],
   "source": [
    "# conslusion is that sorted is better"
   ]
  },
  {
   "cell_type": "code",
   "execution_count": null,
   "metadata": {
    "collapsed": true
   },
   "outputs": [],
   "source": []
  },
  {
   "cell_type": "markdown",
   "metadata": {},
   "source": [
    "# work on refining the solver - make it better"
   ]
  },
  {
   "cell_type": "code",
   "execution_count": 18,
   "metadata": {
    "collapsed": false
   },
   "outputs": [],
   "source": [
    "def solver_better(max_bin_size,shipment_sizes):\n",
    "    bins = []\n",
    "    bins = [[0]] # put the first one in a bin\n",
    "    for ship_index in range(1,len(shipment_sizes)):\n",
    "        bins_room_remaining = [max_bin_size - bin_size(b,shipment_sizes) for b in bins]\n",
    "        if shipment_sizes[ship_index] <= max(bins_room_remaining):\n",
    "            # then it fits in an exsisting bin\n",
    "            if shipment_sizes[ship_index] in bins_room_remaining:\n",
    "                # exact full bin can be made\n",
    "                bins_index = bins_room_remaining.index(shipment_sizes[ship_index])\n",
    "                bins[bins_index].append(ship_index)\n",
    "            else:\n",
    "                # find the best non-exact fix bin\n",
    "                for i in range (1,shipment_sizes[ship_index]):\n",
    "                    if shipment_sizes[ship_index] + i in bins_room_remaining:\n",
    "                        bins_index = bins_room_remaining.index(shipment_sizes[ship_index] + i)\n",
    "                        bins[bins_index].append(ship_index)     \n",
    "        else:\n",
    "            # need to start a new bin\n",
    "            bins.append([ship_index])\n",
    "    return bins"
   ]
  },
  {
   "cell_type": "code",
   "execution_count": 19,
   "metadata": {
    "collapsed": false,
    "scrolled": false
   },
   "outputs": [
    {
     "name": "stdout",
     "output_type": "stream",
     "text": [
      "[10, 9, 7, 11, 3, 9, 4, 3, 5, 3, 11, 7, 11, 6, 3, 6, 5, 6, 4, 8]\n",
      "   bin:  0   size: 10    contents: [0]\n",
      "   bin:  1   size: 12    contents: [1, 4]\n",
      "   bin:  2   size: 11    contents: [2, 6]\n",
      "   bin:  3   size: 11    contents: [3]\n",
      "   bin:  4   size: 12    contents: [5, 7]\n",
      "   bin:  5   size: 12    contents: [8, 11]\n",
      "   bin:  6   size: 11    contents: [10]\n",
      "   bin:  7   size: 11    contents: [12]\n",
      "   bin:  8   size: 12    contents: [13, 15]\n",
      "   bin:  9   size: 11    contents: [16, 17]\n",
      "   bin: 10   size: 12    contents: [18, 19]\n",
      "[[0], [1, 4], [2, 6], [3], [5, 7], [8, 11], [10], [12], [13, 15], [16, 17], [18, 19]]\n",
      "number of bins: 11\n"
     ]
    }
   ],
   "source": [
    "max_bin_size = 12\n",
    "sample_size = 20\n",
    "#shipment_sizes = [5,8,7,10,4,6,9,5,6,7,7,8,6,9,8,7]\n",
    "shipment_sizes = [random.randrange(3,max_bin_size) for _ in range (sample_size)]\n",
    "\n",
    "\n",
    "bins = solver_better(max_bin_size,shipment_sizes)\n",
    "if sample_size <= 20:\n",
    "    print(shipment_sizes)\n",
    "    print_bins(bins,shipment_sizes)\n",
    "    print(bins)\n",
    "print(\"number of bins:\",len(bins))"
   ]
  },
  {
   "cell_type": "code",
   "execution_count": null,
   "metadata": {
    "collapsed": true
   },
   "outputs": [],
   "source": []
  },
  {
   "cell_type": "code",
   "execution_count": null,
   "metadata": {
    "collapsed": true
   },
   "outputs": [],
   "source": []
  },
  {
   "cell_type": "code",
   "execution_count": 20,
   "metadata": {
    "collapsed": false
   },
   "outputs": [
    {
     "name": "stdout",
     "output_type": "stream",
     "text": [
      "    METHOD I                METHOD II         SORTED\n",
      "unsorted   sorted       unsorted   sorted     SAVINGS\n",
      "   510      499            509      497          2\n",
      "   511      505            510      499          6\n",
      "   509      502            505      502          0\n",
      "   509      499            507      495          4\n",
      "   515      505            516      505          0\n",
      "   525      518            522      518          0\n",
      "   518      505            514      505          0\n",
      "   505      497            504      497          0\n",
      "   523      506            523      506          0\n",
      "   520      508            522      508          0\n",
      "   504      490            502      484          6\n",
      "   522      517            521      516          1\n",
      "   533      525            535      525          0\n",
      "   524      514            525      513          1\n",
      "   508      498            507      491          7\n",
      "   517      512            514      512          0\n",
      "   518      508            516      508          0\n",
      "   510      499            507      499          0\n",
      "   522      518            519      518          0\n",
      "   505      494            506      490          4\n"
     ]
    }
   ],
   "source": [
    "max_bin_size = 12\n",
    "sample_size = 1000\n",
    "print('    METHOD I                METHOD II         SORTED')\n",
    "print('unsorted   sorted       unsorted   sorted     SAVINGS')\n",
    "for i in range(20):\n",
    "    random_shipment_sizes = [random.randrange(1,max_bin_size) for _ in range (sample_size)]\n",
    "    random_shipment_sizes_sorted = sorted(random_shipment_sizes, reverse=True)\n",
    "    bins1 = len(solver(max_bin_size,random_shipment_sizes))\n",
    "    bins2 = len(solver(max_bin_size,random_shipment_sizes_sorted))\n",
    "    bins3 = len(solver_better(max_bin_size,random_shipment_sizes))\n",
    "    bins4 = len(solver_better(max_bin_size,random_shipment_sizes_sorted))\n",
    "    print ('{:6}'.format(bins1),'  {:6}'.format(bins2),\n",
    "           '        {:6}'.format(bins3), '  {:6}'.format(bins4),'    {:6}'.format(bins2 - bins4))\n",
    "           "
   ]
  },
  {
   "cell_type": "markdown",
   "metadata": {},
   "source": [
    "# Stand alone of the best"
   ]
  },
  {
   "cell_type": "code",
   "execution_count": 2,
   "metadata": {
    "collapsed": false
   },
   "outputs": [
    {
     "name": "stdout",
     "output_type": "stream",
     "text": [
      "data: [5, 8, 7, 10, 4, 6, 9, 5] \n",
      "\n",
      "   bin:  0   size: 12    contents: [0, 2]\n",
      "   bin:  1   size: 12    contents: [1, 4]\n",
      "   bin:  2   size: 10    contents: [3]\n",
      "   bin:  3   size: 11    contents: [5, 7]\n",
      "   bin:  4   size:  9    contents: [6]\n",
      "\n",
      "number of bins: 5\n"
     ]
    }
   ],
   "source": [
    "from __future__ import print_function\n",
    "import random\n",
    "\n",
    "def print_bins(bins,shipment_sizes):\n",
    "    for bin_index in range(len(bins)):\n",
    "        b = bins[bin_index]\n",
    "        print('   bin:{:3}'.format(bin_index),'  size:{:3}'.format(bin_size(b,shipment_sizes)),'   contents:',b)\n",
    "\n",
    "def bin_size(bin,shipment_sizes):\n",
    "    return sum([shipment_sizes[i] for i in bin])\n",
    "\n",
    "def solver_better(max_bin_size,shipment_sizes):\n",
    "    bins = []\n",
    "    bins = [[0]] # put the first one in a bin\n",
    "    for ship_index in range(1,len(shipment_sizes)):\n",
    "        bins_room_remaining = [max_bin_size - bin_size(b,shipment_sizes) for b in bins]\n",
    "        if shipment_sizes[ship_index] <= max(bins_room_remaining):\n",
    "            # then it fits in an exsisting bin\n",
    "            if shipment_sizes[ship_index] in bins_room_remaining:\n",
    "                # exact full bin can be made\n",
    "                bins_index = bins_room_remaining.index(shipment_sizes[ship_index])\n",
    "                bins[bins_index].append(ship_index)\n",
    "            else:\n",
    "                # find the best non-exact fix bin\n",
    "                for i in range (1,shipment_sizes[ship_index]):\n",
    "                    if shipment_sizes[ship_index] + i in bins_room_remaining:\n",
    "                        bins_index = bins_room_remaining.index(shipment_sizes[ship_index] + i)\n",
    "                        bins[bins_index].append(ship_index)     \n",
    "        else:\n",
    "            # need to start a new bin\n",
    "            bins.append([ship_index])\n",
    "    return bins\n",
    "\n",
    "max_bin_size = 12\n",
    "sample_size = 20\n",
    "shipment_sizes = [5,8,7,10,4,6,9,5]\n",
    "#shipment_sizes = [random.randrange(3,max_bin_size) for _ in range (sample_size)]\n",
    "\n",
    "bins = solver_better(max_bin_size,shipment_sizes)\n",
    "if sample_size <= 20:\n",
    "    print('data:', shipment_sizes,'\\n')\n",
    "    print_bins(bins,shipment_sizes)\n",
    "\n",
    "print(\"\\nnumber of bins:\",len(bins))"
   ]
  },
  {
   "cell_type": "code",
   "execution_count": null,
   "metadata": {
    "collapsed": true
   },
   "outputs": [],
   "source": []
  }
 ],
 "metadata": {
  "kernelspec": {
   "display_name": "Python 2",
   "language": "python",
   "name": "python2"
  },
  "language_info": {
   "codemirror_mode": {
    "name": "ipython",
    "version": 2
   },
   "file_extension": ".py",
   "mimetype": "text/x-python",
   "name": "python",
   "nbconvert_exporter": "python",
   "pygments_lexer": "ipython2",
   "version": "2.7.12"
  }
 },
 "nbformat": 4,
 "nbformat_minor": 0
}
